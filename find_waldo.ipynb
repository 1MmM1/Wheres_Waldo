{
  "nbformat": 4,
  "nbformat_minor": 0,
  "metadata": {
    "accelerator": "GPU",
    "colab": {
      "name": "Where's Waldo Clean.ipynb",
      "provenance": [],
      "collapsed_sections": [],
      "toc_visible": true
    },
    "kernelspec": {
      "display_name": "Python 3",
      "name": "python3"
    },
    "language_info": {
      "name": "python"
    },
    "widgets": {
      "application/vnd.jupyter.widget-state+json": {
        "70b53912e62944d89dd97d9fa60ae68c": {
          "model_module": "@jupyter-widgets/controls",
          "model_name": "HBoxModel",
          "state": {
            "_view_name": "HBoxView",
            "_dom_classes": [],
            "_model_name": "HBoxModel",
            "_view_module": "@jupyter-widgets/controls",
            "_model_module_version": "1.5.0",
            "_view_count": null,
            "_view_module_version": "1.5.0",
            "box_style": "",
            "layout": "IPY_MODEL_94163adcb3e448c2bc47ada7d51ca6fe",
            "_model_module": "@jupyter-widgets/controls",
            "children": [
              "IPY_MODEL_acbd77b896e0422da732a10fc95487a3",
              "IPY_MODEL_cb8364f7108f40efbed618e4a7e04dd3"
            ]
          }
        },
        "94163adcb3e448c2bc47ada7d51ca6fe": {
          "model_module": "@jupyter-widgets/base",
          "model_name": "LayoutModel",
          "state": {
            "_view_name": "LayoutView",
            "grid_template_rows": null,
            "right": null,
            "justify_content": null,
            "_view_module": "@jupyter-widgets/base",
            "overflow": null,
            "_model_module_version": "1.2.0",
            "_view_count": null,
            "flex_flow": null,
            "width": null,
            "min_width": null,
            "border": null,
            "align_items": null,
            "bottom": null,
            "_model_module": "@jupyter-widgets/base",
            "top": null,
            "grid_column": null,
            "overflow_y": null,
            "overflow_x": null,
            "grid_auto_flow": null,
            "grid_area": null,
            "grid_template_columns": null,
            "flex": null,
            "_model_name": "LayoutModel",
            "justify_items": null,
            "grid_row": null,
            "max_height": null,
            "align_content": null,
            "visibility": null,
            "align_self": null,
            "height": null,
            "min_height": null,
            "padding": null,
            "grid_auto_rows": null,
            "grid_gap": null,
            "max_width": null,
            "order": null,
            "_view_module_version": "1.2.0",
            "grid_template_areas": null,
            "object_position": null,
            "object_fit": null,
            "grid_auto_columns": null,
            "margin": null,
            "display": null,
            "left": null
          }
        },
        "acbd77b896e0422da732a10fc95487a3": {
          "model_module": "@jupyter-widgets/controls",
          "model_name": "FloatProgressModel",
          "state": {
            "_view_name": "ProgressView",
            "style": "IPY_MODEL_2941679df41743b196a76e3a42072a4a",
            "_dom_classes": [],
            "description": "100%",
            "_model_name": "FloatProgressModel",
            "bar_style": "success",
            "max": 46827520,
            "_view_module": "@jupyter-widgets/controls",
            "_model_module_version": "1.5.0",
            "value": 46827520,
            "_view_count": null,
            "_view_module_version": "1.5.0",
            "orientation": "horizontal",
            "min": 0,
            "description_tooltip": null,
            "_model_module": "@jupyter-widgets/controls",
            "layout": "IPY_MODEL_cbe45540290a411cbfa0281064913671"
          }
        },
        "cb8364f7108f40efbed618e4a7e04dd3": {
          "model_module": "@jupyter-widgets/controls",
          "model_name": "HTMLModel",
          "state": {
            "_view_name": "HTMLView",
            "style": "IPY_MODEL_f0e71371675e42d6b9e79744b0408972",
            "_dom_classes": [],
            "description": "",
            "_model_name": "HTMLModel",
            "placeholder": "​",
            "_view_module": "@jupyter-widgets/controls",
            "_model_module_version": "1.5.0",
            "value": " 44.7M/44.7M [00:00&lt;00:00, 106MB/s]",
            "_view_count": null,
            "_view_module_version": "1.5.0",
            "description_tooltip": null,
            "_model_module": "@jupyter-widgets/controls",
            "layout": "IPY_MODEL_de29eb23d4574ab7b7e00dd99b6813d6"
          }
        },
        "2941679df41743b196a76e3a42072a4a": {
          "model_module": "@jupyter-widgets/controls",
          "model_name": "ProgressStyleModel",
          "state": {
            "_view_name": "StyleView",
            "_model_name": "ProgressStyleModel",
            "description_width": "initial",
            "_view_module": "@jupyter-widgets/base",
            "_model_module_version": "1.5.0",
            "_view_count": null,
            "_view_module_version": "1.2.0",
            "bar_color": null,
            "_model_module": "@jupyter-widgets/controls"
          }
        },
        "cbe45540290a411cbfa0281064913671": {
          "model_module": "@jupyter-widgets/base",
          "model_name": "LayoutModel",
          "state": {
            "_view_name": "LayoutView",
            "grid_template_rows": null,
            "right": null,
            "justify_content": null,
            "_view_module": "@jupyter-widgets/base",
            "overflow": null,
            "_model_module_version": "1.2.0",
            "_view_count": null,
            "flex_flow": null,
            "width": null,
            "min_width": null,
            "border": null,
            "align_items": null,
            "bottom": null,
            "_model_module": "@jupyter-widgets/base",
            "top": null,
            "grid_column": null,
            "overflow_y": null,
            "overflow_x": null,
            "grid_auto_flow": null,
            "grid_area": null,
            "grid_template_columns": null,
            "flex": null,
            "_model_name": "LayoutModel",
            "justify_items": null,
            "grid_row": null,
            "max_height": null,
            "align_content": null,
            "visibility": null,
            "align_self": null,
            "height": null,
            "min_height": null,
            "padding": null,
            "grid_auto_rows": null,
            "grid_gap": null,
            "max_width": null,
            "order": null,
            "_view_module_version": "1.2.0",
            "grid_template_areas": null,
            "object_position": null,
            "object_fit": null,
            "grid_auto_columns": null,
            "margin": null,
            "display": null,
            "left": null
          }
        },
        "f0e71371675e42d6b9e79744b0408972": {
          "model_module": "@jupyter-widgets/controls",
          "model_name": "DescriptionStyleModel",
          "state": {
            "_view_name": "StyleView",
            "_model_name": "DescriptionStyleModel",
            "description_width": "",
            "_view_module": "@jupyter-widgets/base",
            "_model_module_version": "1.5.0",
            "_view_count": null,
            "_view_module_version": "1.2.0",
            "_model_module": "@jupyter-widgets/controls"
          }
        },
        "de29eb23d4574ab7b7e00dd99b6813d6": {
          "model_module": "@jupyter-widgets/base",
          "model_name": "LayoutModel",
          "state": {
            "_view_name": "LayoutView",
            "grid_template_rows": null,
            "right": null,
            "justify_content": null,
            "_view_module": "@jupyter-widgets/base",
            "overflow": null,
            "_model_module_version": "1.2.0",
            "_view_count": null,
            "flex_flow": null,
            "width": null,
            "min_width": null,
            "border": null,
            "align_items": null,
            "bottom": null,
            "_model_module": "@jupyter-widgets/base",
            "top": null,
            "grid_column": null,
            "overflow_y": null,
            "overflow_x": null,
            "grid_auto_flow": null,
            "grid_area": null,
            "grid_template_columns": null,
            "flex": null,
            "_model_name": "LayoutModel",
            "justify_items": null,
            "grid_row": null,
            "max_height": null,
            "align_content": null,
            "visibility": null,
            "align_self": null,
            "height": null,
            "min_height": null,
            "padding": null,
            "grid_auto_rows": null,
            "grid_gap": null,
            "max_width": null,
            "order": null,
            "_view_module_version": "1.2.0",
            "grid_template_areas": null,
            "object_position": null,
            "object_fit": null,
            "grid_auto_columns": null,
            "margin": null,
            "display": null,
            "left": null
          }
        }
      }
    }
  },
  "cells": [
    {
      "cell_type": "markdown",
      "metadata": {
        "id": "Cb0R9t1AzQeA"
      },
      "source": [
        "# Where's Waldo\n",
        "\n",
        "In this Python Notebook we fine tune a pretrained ResNet18 model to find Waldo in a given unseen image. First, run the Setup cells to download and import the necessary libraries. To use this notebook for training a model, you must first download our augmented version of the Waldo data. If you would just like to find Waldo using a model, simply add the path to the checkpoint in the Training section and run the cells following that."
      ]
    },
    {
      "cell_type": "markdown",
      "metadata": {
        "id": "3QkE1G3-Cl-Y"
      },
      "source": [
        "# Setup\n",
        "\n",
        "Code in the following cells imports necessary libraries, mounts to your Google Drive, and sets all the global variables"
      ]
    },
    {
      "cell_type": "code",
      "metadata": {
        "colab": {
          "base_uri": "https://localhost:8080/"
        },
        "id": "G3VqFo0avsJl",
        "outputId": "009c24a5-1cf2-4be2-c96a-61c5fbbf2c3e"
      },
      "source": [
        "import torch\n",
        "import torch.nn as nn\n",
        "import torchvision\n",
        "from torchvision import datasets\n",
        "from torchvision import transforms, models\n",
        "from torchvision.io import read_image\n",
        "import numpy as np\n",
        "import torch.nn.functional as F\n",
        "import torch.optim as optim\n",
        "import sys\n",
        "import pickle\n",
        "import matplotlib.pyplot as plt\n",
        "\n",
        "# Libraries for tiling images\n",
        "!pip install image_slicer\n",
        "!pip install imgaug\n",
        "\n",
        "device = torch.device(\"cuda:0\" if torch.cuda.is_available() else \"cpu\")\n",
        "print(device)"
      ],
      "execution_count": 3,
      "outputs": [
        {
          "output_type": "stream",
          "text": [
            "cuda:0\n"
          ],
          "name": "stdout"
        }
      ]
    },
    {
      "cell_type": "code",
      "metadata": {
        "colab": {
          "base_uri": "https://localhost:8080/"
        },
        "id": "RKoqtTkJxZN5",
        "outputId": "86cfce6c-9f51-46e2-8f5f-a4d7421741ed"
      },
      "source": [
        "# Mount to Google Drive\n",
        "from google.colab import drive\n",
        "drive.mount('/gdrive')\n",
        "!ls /gdrive"
      ],
      "execution_count": 4,
      "outputs": [
        {
          "output_type": "stream",
          "text": [
            "Mounted at /gdrive\n",
            "MyDrive  Shareddrives\n"
          ],
          "name": "stdout"
        }
      ]
    },
    {
      "cell_type": "code",
      "metadata": {
        "id": "sHzS4qkBgwmF"
      },
      "source": [
        "# Globals\n",
        "TRAIN_SPLIT = 0.8\n",
        "TEST_SPLIT = 0.2\n",
        "BASE_PATH = '/gdrive/MyDrive/CSE455 Final Project/'\n",
        "split_names = [\"train\", \"validation\", \"test\"]\n",
        "categories = [\"notwaldo\", \"waldo\"]\n",
        "\n",
        "# Hyperparameters\n",
        "BATCH_SIZE = 128\n",
        "TEST_BATCH_SIZE = 1\n",
        "EPOCHS = 10\n",
        "LEARNING_RATE = 0.0005\n",
        "MOMENTUM = 0.9\n",
        "PRINT_INTERVAL = 10\n",
        "WEIGHT_DECAY = 0.001\n",
        "\n",
        "# Experiment documentation - make sure to change this between runs to avoid overwriting checkpoints\n",
        "EXPERIMENT_NUM = \"0.13\"\n",
        "LOG_PATH = BASE_PATH + \"logs/\" + EXPERIMENT_NUM + \"/\"\n",
        "LOAD_SAVED_CHECKPOINT = False"
      ],
      "execution_count": 5,
      "outputs": []
    },
    {
      "cell_type": "markdown",
      "metadata": {
        "id": "_B1yJ5LyrS_V"
      },
      "source": [
        "# Splitting data\n",
        "\n",
        "Code in this section handles creating the train, validation, and test splits from a given dataset. "
      ]
    },
    {
      "cell_type": "code",
      "metadata": {
        "colab": {
          "base_uri": "https://localhost:8080/"
        },
        "id": "EVxoXaDsxZEl",
        "outputId": "bfa9f08c-7ec4-4f36-bf7f-95b5aae0515d"
      },
      "source": [
        "# Loading data files and splitting them into train/validation/test\n",
        "import os\n",
        "import subprocess\n",
        "import random\n",
        "\n",
        "image_numbers = list(range(1,20))\n",
        "print(\"image numbers before sampling:\", image_numbers)\n",
        "train_images = random.sample(image_numbers, 12)\n",
        "for i in train_images:\n",
        "  image_numbers.remove(i)\n",
        "validation_images = random.sample(image_numbers, 3)\n",
        "for i in validation_images:\n",
        "  image_numbers.remove(i)\n",
        "test_images = random.sample(image_numbers, 4)\n",
        "for i in test_images:\n",
        "  image_numbers.remove(i)\n",
        "print(\"image numbers after sampling:\", image_numbers)\n",
        "image_numbers = list(range(1,20))\n",
        "print(\"image numbers recreated:\", image_numbers)\n",
        "print(\"splits:\", train_images, validation_images, test_images)\n",
        "\n",
        "if not os.path.exists(BASE_PATH):\n",
        "    os.makedirs(BASE_PATH)\n",
        "ORIGINAL_PATH = BASE_PATH + \"waldo-data-organized/\"\n",
        "\n",
        "def get_splits(zipped=False, tarify=True):\n",
        "  os.chdir(BASE_PATH)\n",
        "  !ls\n",
        "  if tarify:\n",
        "    os.system(\"tar -cf \" + os.path.join(BASE_PATH, \"new_splits.tar\") + \" \" + os.path.join(BASE_PATH, \"new_splits/\"))\n",
        "  else:\n",
        "    !tar -xvf \"/gdrive/MyDrive/CSE455 Final Project/wheres_waldo/new_splits.tar\" \n",
        "\n",
        "def duplicate_images(dir_path, label, times=1):\n",
        "  \"\"\"\n",
        "  Args:\n",
        "    dir_path: path to directory containing train, validation, and test splits\n",
        "  \"\"\"\n",
        "  for split in split_names:\n",
        "    picture_names = os.listdir(os.path.join(dir_path, split, label))\n",
        "    print(\"before:\", len(picture_names))\n",
        "    for name in picture_names:\n",
        "      for idx in range(times):\n",
        "        subprocess.run([\"cp\", os.path.join(dir_path, split, label, name), os.path.join(dir_path, split, label, name[:-4] + \"_d\" + str(idx) + name[-4:])])\n",
        "    print(\"after:\", len(os.listdir(os.path.join(dir_path, split, label))))\n",
        "\n",
        "def create_splits():\n",
        "  # Create split folders\n",
        "  if not os.path.exists(BASE_PATH + \"new_splits/\"):\n",
        "    os.makedirs(BASE_PATH + \"new_splits/train/waldo\")\n",
        "    os.makedirs(BASE_PATH + \"new_splits/validation/waldo\")\n",
        "    os.makedirs(BASE_PATH + \"new_splits/test/waldo\")\n",
        "    os.makedirs(BASE_PATH + \"new_splits/train/notwaldo\")\n",
        "    os.makedirs(BASE_PATH + \"new_splits/validation/notwaldo\")\n",
        "    os.makedirs(BASE_PATH + \"new_splits/test/notwaldo\")\n",
        "\n",
        "  asterisk = \"*\"\n",
        "  for image_num in train_images:\n",
        "    os.chdir(ORIGINAL_PATH + str(image_num) + \"/\")\n",
        "    !cp notwaldo/* '/gdrive/MyDrive/CSE455 Final Project/new_splits/train/notwaldo/'\n",
        "    !cp waldo/* '/gdrive/MyDrive/CSE455 Final Project/new_splits/train/waldo/'\n",
        "  for image_num in validation_images:\n",
        "    os.chdir(ORIGINAL_PATH + str(image_num) + \"/\")\n",
        "    !cp notwaldo/* '/gdrive/MyDrive/CSE455 Final Project/new_splits/validation/notwaldo/'\n",
        "    !cp waldo/* '/gdrive/MyDrive/CSE455 Final Project/new_splits/validation/waldo/'\n",
        "  for image_num in test_images:\n",
        "    os.chdir(ORIGINAL_PATH + str(image_num) + \"/\")\n",
        "    !cp notwaldo/* '/gdrive/MyDrive/CSE455 Final Project/new_splits/test/notwaldo/'\n",
        "    !cp waldo/* '/gdrive/MyDrive/CSE455 Final Project/new_splits/test/waldo/'\n",
        "  \n",
        "print(\"Train waldo instances:\")\n",
        "os.chdir('/gdrive/MyDrive/CSE455 Final Project/new_splits/train/waldo/')\n",
        "!ls | wc -l\n",
        "print(\"Train notwaldo instances:\")\n",
        "os.chdir('/gdrive/MyDrive/CSE455 Final Project/new_splits/train/notwaldo/')\n",
        "!ls | wc -l\n",
        "print(\"Validation waldo instances:\")\n",
        "os.chdir('/gdrive/MyDrive/CSE455 Final Project/new_splits/validation/waldo/')\n",
        "!ls | wc -l\n",
        "print(\"Validation notwaldo instances:\")\n",
        "os.chdir('/gdrive/MyDrive/CSE455 Final Project/new_splits/validation/notwaldo/')\n",
        "!ls | wc -l\n",
        "print(\"Test waldo instances:\")\n",
        "os.chdir('/gdrive/MyDrive/CSE455 Final Project/new_splits/test/waldo/')\n",
        "!ls | wc -l\n",
        "print(\"Test notwaldo instances:\")\n",
        "os.chdir('/gdrive/MyDrive/CSE455 Final Project/new_splits/test/notwaldo/')\n",
        "!ls | wc -l\n",
        "os.chdir('/content')"
      ],
      "execution_count": 6,
      "outputs": [
        {
          "output_type": "stream",
          "text": [
            "image numbers before sampling: [1, 2, 3, 4, 5, 6, 7, 8, 9, 10, 11, 12, 13, 14, 15, 16, 17, 18, 19]\n",
            "image numbers after sampling: []\n",
            "image numbers recreated: [1, 2, 3, 4, 5, 6, 7, 8, 9, 10, 11, 12, 13, 14, 15, 16, 17, 18, 19]\n",
            "splits: [10, 1, 14, 4, 17, 9, 7, 18, 16, 5, 11, 15] [12, 3, 19] [8, 2, 13, 6]\n",
            "Train waldo instances:\n",
            "867\n",
            "Train notwaldo instances:\n",
            "3514\n",
            "Validation waldo instances:\n",
            "248\n",
            "Validation notwaldo instances:\n",
            "759\n",
            "Test waldo instances:\n",
            "258\n",
            "Test notwaldo instances:\n",
            "1020\n"
          ],
          "name": "stdout"
        }
      ]
    },
    {
      "cell_type": "markdown",
      "metadata": {
        "id": "4yge8WANrPJC"
      },
      "source": [
        "# Loading data\n",
        "\n",
        "Now that the splits have been created or retreived, we can create the dataloaders for them. Note that each split currently uses a different type of dataloader."
      ]
    },
    {
      "cell_type": "code",
      "metadata": {
        "id": "NT9NNu_pKBCZ"
      },
      "source": [
        "# Image helper function\n",
        "def imshow(img):\n",
        "    npimg = img.numpy()\n",
        "    plt.imshow(np.transpose(npimg, (1, 2, 0)))\n",
        "    plt.show()\n",
        "\n",
        "def peek_data(peek_dataloader):\n",
        "  dataiter = iter(peek_dataloader)\n",
        "  images, labels = dataiter.next()\n",
        "  print(\"images\", images.size())\n",
        "  images = images[:8]\n",
        "  print(\"labels\", labels)\n",
        "\n",
        "  # show images\n",
        "  imshow(torchvision.utils.make_grid(images))\n",
        "  # print labels\n",
        "  print(\"Labels:\" + ', '.join('%9s' % data['to_class'][labels[j].item()] for j in range(len(images))))\n",
        "\n",
        "def peek_data_with_path(peek_dataloader, has_labels=False):\n",
        "  # Show training data with non-filename dataset\n",
        "  dataiter = iter(peek_dataloader)\n",
        "  images, labels, paths = dataiter.next()\n",
        "  print(\"images\", images.size())\n",
        "  images = images[:8]\n",
        "  print(\"labels\", labels.size())\n",
        "\n",
        "  # show images\n",
        "  imshow(torchvision.utils.make_grid(images))\n",
        "  if has_labels:\n",
        "    # print labels\n",
        "    print(\"Labels:\" + ', '.join('%9s' % data['to_class'][labels[j].item()] for j in range(len(images))))\n",
        "  # print paths\n",
        "  print(\"Path:\", paths)"
      ],
      "execution_count": 36,
      "outputs": []
    },
    {
      "cell_type": "code",
      "metadata": {
        "colab": {
          "base_uri": "https://localhost:8080/",
          "height": 397
        },
        "id": "neAiRPrZx2nx",
        "outputId": "d2d6356b-b7cf-4ba1-a17c-56f199cb3b39"
      },
      "source": [
        "def get_waldo_data(augmentation=0):\n",
        "    transform_train = transforms.Compose([\n",
        "        transforms.ToTensor(),\n",
        "    ])\n",
        "    \n",
        "    transform_test = transforms.Compose([\n",
        "        transforms.ToTensor(),\n",
        "    ])\n",
        "    trainset = datasets.ImageFolder(root=os.path.join(BASE_PATH, 'new_splits/train'), transform=transform_train)\n",
        "    validationset = datasets.ImageFolder(root=os.path.join(BASE_PATH, 'new_splits/validation'), transform=transform_test)\n",
        "    testset = datasets.ImageFolder(root=os.path.join(BASE_PATH, 'new_splits/test'), transform=transform_test)\n",
        "    print(\"Training set size:\", len(trainset))\n",
        "    print(\"Validation set size:\", len(validationset))\n",
        "    print(\"Test set size:\", len(testset))\n",
        "\n",
        "    trainloader = torch.utils.data.DataLoader(trainset, batch_size=BATCH_SIZE, shuffle=True, num_workers=2)\n",
        "    validationloader = torch.utils.data.DataLoader(validationset, batch_size=TEST_BATCH_SIZE, shuffle=False, num_workers=2)\n",
        "    testloader = torch.utils.data.DataLoader(testset, batch_size=TEST_BATCH_SIZE, shuffle=False, num_workers=2)\n",
        "\n",
        "    class_to_idx = testset.class_to_idx\n",
        "    print(class_to_idx)\n",
        "    idx_to_class = {v: k for k, v in class_to_idx.items()}\n",
        "    return {'train': trainloader, 'validation': validationloader, 'test': testloader, 'to_class': idx_to_class}\n",
        "\n",
        "data = get_waldo_data()\n",
        "peek_data(data['validation'])"
      ],
      "execution_count": 8,
      "outputs": [
        {
          "output_type": "stream",
          "text": [
            "Training set size: 4381\n",
            "Validation set size: 1007\n",
            "Test set size: 1278\n",
            "{'notwaldo': 0, 'waldo': 1}\n",
            "images torch.Size([1, 3, 64, 64])\n",
            "labels tensor([0])\n"
          ],
          "name": "stdout"
        },
        {
          "output_type": "display_data",
          "data": {
            "image/png": "[encoded data removed]",
            "text/plain": [
              "<Figure size 432x288 with 1 Axes>"
            ]
          },
          "metadata": {
            "tags": [],
            "needs_background": "light"
          }
        },
        {
          "output_type": "stream",
          "text": [
            "Labels: notwaldo\n"
          ],
          "name": "stdout"
        }
      ]
    },
    {
      "cell_type": "code",
      "metadata": {
        "id": "6xNGpI8DhtoA",
        "colab": {
          "base_uri": "https://localhost:8080/",
          "height": 360
        },
        "outputId": "1efc26e3-e9bd-4073-e0d3-831678bc5d59"
      },
      "source": [
        "# Create ImageFolder which includes image path names\n",
        "class WaldoImageFolder(datasets.folder.ImageFolder):\n",
        "    def __init__(self, root, transform=None, target_transform=None,\n",
        "                 loader=datasets.folder.default_loader):\n",
        "        super(WaldoImageFolder, self).__init__(root, transform, target_transform, loader)\n",
        "\n",
        "    def __getitem__(self, index):\n",
        "        path, target = self.samples[index]\n",
        "        sample = self.loader(path)\n",
        "        if self.transform is not None:\n",
        "            sample = self.transform(sample)\n",
        "        if self.target_transform is not None:\n",
        "            target = self.target_transform(target)\n",
        "        return sample, target, path\n",
        "\n",
        "# Optimize transforms for test set since we won't be using this for training\n",
        "data_transform = transforms.Compose([\n",
        "        transforms.ToTensor()\n",
        "    ])\n",
        "\n",
        "image_datasets = {x: WaldoImageFolder(os.path.join('/gdrive/MyDrive/CSE455 Final Project/new_splits', x),\n",
        "                                          transform=data_transform)\n",
        "                  for x in ['train', 'validation', 'test']}\n",
        "\n",
        "# Optimize data loaders for test set since we won't be using this for training\n",
        "dataloaders = {x: torch.utils.data.DataLoader(image_datasets[x], batch_size=TEST_BATCH_SIZE,\n",
        "                                             shuffle=False, num_workers=2)\n",
        "              for x in ['train', 'validation', 'test']}\n",
        "dataset_sizes = {x: len(image_datasets[x]) for x in ['train', 'validation', 'test']}\n",
        "\n",
        "\n",
        "class_names = image_datasets['train'].classes\n",
        "print(class_names)\n",
        "\n",
        "peek_data_with_path(dataloaders['test'], has_labels=True)"
      ],
      "execution_count": 40,
      "outputs": [
        {
          "output_type": "stream",
          "text": [
            "['notwaldo', 'waldo']\n",
            "images torch.Size([1, 3, 64, 64])\n",
            "labels torch.Size([1])\n"
          ],
          "name": "stdout"
        },
        {
          "output_type": "display_data",
          "data": {
            "image/png": "[encoded data removed]",
            "text/plain": [
              "<Figure size 432x288 with 1 Axes>"
            ]
          },
          "metadata": {
            "tags": [],
            "needs_background": "light"
          }
        },
        {
          "output_type": "stream",
          "text": [
            "Labels: notwaldo\n",
            "Path: ('/gdrive/MyDrive/CSE455 Final Project/new_splits/test/notwaldo/14_0_0.jpg',)\n"
          ],
          "name": "stdout"
        }
      ]
    },
    {
      "cell_type": "code",
      "metadata": {
        "id": "Cg_4UIQeH2YC",
        "colab": {
          "base_uri": "https://localhost:8080/",
          "height": 261
        },
        "outputId": "a53a8c46-6869-4c25-c90a-ccc48160088b"
      },
      "source": [
        "# Create dataset with equal waldo and notwaldo images\n",
        "class EqualRatioDataset(torch.utils.data.Dataset):\n",
        "    def __init__(self, waldo_image_folder, notwaldo_image_folder, transform=None, target_transform=None):\n",
        "        self.waldo_dir = waldo_image_folder\n",
        "        self.waldo_images = os.listdir(waldo_image_folder)\n",
        "        self.notwaldo_dir = notwaldo_image_folder\n",
        "        self.notwaldo_images = os.listdir(notwaldo_image_folder)\n",
        "        self.transform = transform\n",
        "        self.target_transform = target_transform\n",
        "\n",
        "    def __len__(self):\n",
        "        return len(self.waldo_images) + len(self.notwaldo_images)\n",
        "\n",
        "    def __getitem__(self, idx):\n",
        "        # label key: {'notwaldo': 0, 'waldo': 1}\n",
        "        if idx % 2 == 0:\n",
        "            # when idx is even, pull the next waldo image\n",
        "            image = read_image(os.path.join(self.waldo_dir, self.waldo_images[(idx // 2) % len(self.waldo_images)]))\n",
        "            label = 1\n",
        "        else:\n",
        "            # when idx is odd, pull the next notwaldo image\n",
        "            image = read_image(os.path.join(self.notwaldo_dir, self.notwaldo_images[idx // 2]))\n",
        "            label = 0\n",
        "\n",
        "        if self.transform:\n",
        "            image = self.transform(image)\n",
        "        if self.target_transform:\n",
        "            label = self.target_transform(label)\n",
        "        return torch.div(image, 255), label\n",
        "\n",
        "# Training data only\n",
        "duo_dataset = EqualRatioDataset('/gdrive/MyDrive/CSE455 Final Project/new_splits/train/waldo',\n",
        "                                '/gdrive/MyDrive/CSE455 Final Project/new_splits/train/notwaldo') \n",
        "print(len(duo_dataset))\n",
        "\n",
        "duo_loader = torch.utils.data.DataLoader(duo_dataset, batch_size=BATCH_SIZE, shuffle=True, num_workers=2)\n",
        "peek_data(duo_loader)"
      ],
      "execution_count": 16,
      "outputs": [
        {
          "output_type": "stream",
          "text": [
            "4381\n",
            "images torch.Size([128, 3, 64, 64])\n",
            "labels tensor([0, 0, 1, 1, 0, 1, 0, 0, 0, 1, 0, 0, 1, 0, 1, 1, 0, 0, 1, 0, 1, 1, 0, 0,\n",
            "        1, 0, 0, 1, 1, 0, 0, 0, 0, 1, 1, 0, 0, 0, 1, 0, 0, 1, 1, 0, 1, 0, 1, 0,\n",
            "        1, 1, 1, 1, 0, 0, 1, 0, 0, 0, 1, 0, 0, 1, 1, 1, 1, 1, 1, 0, 1, 1, 1, 0,\n",
            "        0, 0, 1, 1, 1, 0, 0, 1, 1, 0, 0, 1, 1, 1, 0, 1, 1, 0, 0, 0, 1, 0, 0, 1,\n",
            "        0, 1, 1, 0, 0, 0, 0, 1, 0, 1, 1, 0, 0, 1, 0, 1, 0, 1, 0, 1, 1, 0, 1, 0,\n",
            "        1, 0, 1, 0, 1, 1, 1, 0])\n"
          ],
          "name": "stdout"
        },
        {
          "output_type": "display_data",
          "data": {
            "image/png": "[encoded data removed]",
            "text/plain": [
              "<Figure size 432x288 with 1 Axes>"
            ]
          },
          "metadata": {
            "tags": [],
            "needs_background": "light"
          }
        },
        {
          "output_type": "stream",
          "text": [
            "Labels: notwaldo,  notwaldo,     waldo,     waldo,  notwaldo,     waldo,  notwaldo,  notwaldo\n"
          ],
          "name": "stdout"
        }
      ]
    },
    {
      "cell_type": "markdown",
      "metadata": {
        "id": "bz2SOpRhrKo5"
      },
      "source": [
        "# Create model\n",
        "\n",
        "In this section we create a CNN model with combinations of convolution, maxpool, and batch normalization layers. This model should be trained on ImageNet first before fine tuning on the Waldo dataset."
      ]
    },
    {
      "cell_type": "code",
      "metadata": {
        "id": "LiitmTkbxYvJ"
      },
      "source": [
        "# Model creation code (torch.Module class)\n",
        "class WaldoNet(nn.Module):\n",
        "    def __init__(self):\n",
        "        super(WaldoNet, self).__init__()\n",
        "        self.conv1 = nn.Conv2d(3, 32, 3, stride=1, padding=1)\n",
        "        self.maxpool1 = nn.MaxPool2d(3, 2, 1);\n",
        "        self.batchnorm1 = nn.BatchNorm2d(32)\n",
        "        self.conv2 = nn.Conv2d(32, 64, 3, stride=1, padding=1)\n",
        "        self.maxpool2 = nn.MaxPool2d(3, 2, 1);\n",
        "        self.batchnorm2 = nn.BatchNorm2d(64)\n",
        "        self.conv3 = nn.Conv2d(64, 128, 3, stride=1, padding=1)\n",
        "        self.maxpool3 = nn.MaxPool2d(3, 2, 1);\n",
        "        self.batchnorm3 = nn.BatchNorm2d(128)\n",
        "        self.fc1 = nn.Linear(8192, 1024)\n",
        "        self.fc2 = nn.Linear(1024, 2)\n",
        "\n",
        "    def forward(self, x):\n",
        "        # TODO define the forward pass\n",
        "        x = self.conv1(x)\n",
        "        x = F.leaky_relu(x)\n",
        "        x = self.maxpool1(x)\n",
        "        x = self.batchnorm1(x)\n",
        "        x = self.conv2(x)\n",
        "        x = F.leaky_relu(x)\n",
        "        x = self.maxpool2(x)\n",
        "        x = self.batchnorm2(x)\n",
        "        x = self.conv3(x)\n",
        "        x = F.leaky_relu(x)\n",
        "        x = self.maxpool3(x)\n",
        "        x = self.batchnorm3(x)\n",
        "        x = torch.flatten(x, 1)\n",
        "        x = self.fc1(x)\n",
        "        x = F.leaky_relu(x)\n",
        "        x = self.fc2(x)\n",
        "        return x"
      ],
      "execution_count": 17,
      "outputs": []
    },
    {
      "cell_type": "markdown",
      "metadata": {
        "id": "bo4zHwXfrFMH"
      },
      "source": [
        "# Training\n",
        "\n",
        "Here we are performing the training of the model and accuracy calculations. We are currently utilizing a ResNet18 model that has been pretrained on ImageNet. The model weights are mostly frozen - only the last fully connected layer is fine tuned with our Waldo dataset."
      ]
    },
    {
      "cell_type": "code",
      "metadata": {
        "id": "9hFcb-nBRJSM"
      },
      "source": [
        "def train(net, dataloader, epochs=1, start_epoch=0, lr=0.01, momentum=0.9, decay=0.0005, \n",
        "          verbose=1, print_every=10, state=None, schedule={}, checkpoint_path=None):\n",
        "    net.to(device)\n",
        "    net.train()\n",
        "    losses = []\n",
        "    criterion = nn.CrossEntropyLoss()\n",
        "    # criterion = nn.BCEWithLogitsLoss(pos_weight=torch.tensor(5.))\n",
        "\n",
        "    # Filter out frozen (requres_grad=False) layers\n",
        "    optimizer = optim.SGD(filter(lambda p: p.requires_grad, net.parameters()), lr=lr, momentum=momentum, weight_decay=decay)\n",
        "    # optimizer = optim.SGD(net.parameters(), lr=lr, momentum=momentum, weight_decay=decay)\n",
        " \n",
        "    # Load previous training state\n",
        "    if state:\n",
        "        net.load_state_dict(state['net'])\n",
        "        optimizer.load_state_dict(state['optimizer'])\n",
        "        start_epoch = state['epoch']\n",
        "        losses = state['losses']\n",
        "\n",
        "    # Fast forward lr schedule through already trained epochs\n",
        "    for epoch in range(start_epoch):\n",
        "        if epoch in schedule:\n",
        "            print (\"Learning rate: %f\"% schedule[epoch])\n",
        "            for g in optimizer.param_groups:\n",
        "                g['lr'] = schedule[epoch]\n",
        "\n",
        "    for epoch in range(start_epoch, epochs):\n",
        "        sum_loss = 0.0\n",
        "\n",
        "        # Update learning rate when scheduled\n",
        "        if epoch in schedule:\n",
        "            print (\"Learning rate: %f\"% schedule[epoch])\n",
        "            for g in optimizer.param_groups:\n",
        "                g['lr'] = schedule[epoch]\n",
        "\n",
        "        for i, batch in enumerate(dataloader, 0):\n",
        "            inputs, labels = batch[0].to(device), batch[1].to(device)\n",
        "\n",
        "            optimizer.zero_grad()\n",
        "\n",
        "            outputs = net(inputs)\n",
        "            loss = criterion(outputs, labels)\n",
        "            loss.backward()  # autograd magic, computes all the partial derivatives\n",
        "            optimizer.step() # takes a step in gradient direction\n",
        "\n",
        "            losses.append(loss.item())\n",
        "            sum_loss += loss.item()\n",
        "\n",
        "            if i % print_every == print_every-1:    # print every 10 mini-batches\n",
        "                if verbose:\n",
        "                  print('[%d, %5d] loss: %.3f' % (epoch, i + 1, sum_loss / print_every))\n",
        "                sum_loss = 0.0\n",
        "        if checkpoint_path:\n",
        "            state = {'epoch': epoch+1, 'net': net.state_dict(), 'optimizer': optimizer.state_dict(), 'losses': losses}\n",
        "            torch.save(state, checkpoint_path + 'checkpoint-%d.pkl'%(epoch+1))\n",
        "    return losses\n",
        "\n",
        "def accuracy(net, dataloader):\n",
        "  correct = 0\n",
        "  positives = 0\n",
        "  false_negative = 0\n",
        "  false_positive = 0\n",
        "  total = 0\n",
        "  with torch.no_grad():\n",
        "      for batch in dataloader:\n",
        "          images, labels = batch[0].to(device), batch[1].to(device)\n",
        "          outputs = net(images)\n",
        "          _, predicted = torch.max(outputs.data, 1)\n",
        "          total += labels.size(0)\n",
        "          correct += (predicted == labels).sum().item()\n",
        "          for idx, label in enumerate(labels):\n",
        "            if label == 1:\n",
        "              if predicted[idx] != label:\n",
        "                false_negative += 1\n",
        "              positives += 1\n",
        "            else:\n",
        "              if predicted[idx] != label:\n",
        "                false_positive += 1\n",
        "\n",
        "  print(\"Number of waldos guessed wrong:\", false_negative)\n",
        "  print(\"Total number of waldos:\", positives)\n",
        "  print(\"Number of notwaldos guessed wrong:\", false_positive)\n",
        "  print(\"Total correct:\", correct)\n",
        "  print(\"Total images:\", total)\n",
        "  return correct/total, false_negative/positives\n",
        "\n",
        "def smooth(x, size):\n",
        "  return np.convolve(x, np.ones(size)/size, mode='valid')"
      ],
      "execution_count": 18,
      "outputs": []
    },
    {
      "cell_type": "code",
      "metadata": {
        "colab": {
          "base_uri": "https://localhost:8080/",
          "height": 1000,
          "referenced_widgets": [
            "70b53912e62944d89dd97d9fa60ae68c",
            "94163adcb3e448c2bc47ada7d51ca6fe",
            "acbd77b896e0422da732a10fc95487a3",
            "cb8364f7108f40efbed618e4a7e04dd3",
            "2941679df41743b196a76e3a42072a4a",
            "cbe45540290a411cbfa0281064913671",
            "f0e71371675e42d6b9e79744b0408972",
            "de29eb23d4574ab7b7e00dd99b6813d6"
          ]
        },
        "id": "O-9Pj6SmRJJW",
        "outputId": "dff84e37-cb2b-417f-858c-103e422039cc"
      },
      "source": [
        "if not os.path.exists(LOG_PATH):\n",
        "    os.makedirs(LOG_PATH)\n",
        "\n",
        "# net = WaldoNet()\n",
        "model_ft = models.resnet18(pretrained=True)\n",
        "model_ft.trainable = False\n",
        "num_ftrs = model_ft.fc.in_features\n",
        "model_ft.fc = nn.Linear(num_ftrs, 2)\n",
        "\n",
        "# Freeze all non-fully connected layer weights\n",
        "for name, param in model_ft.named_parameters():\n",
        "  if param.requires_grad and 'fc' not in name:\n",
        "    param.requires_grad = False\n",
        "model_ft = model_ft.to(device)\n",
        "\n",
        "# Load model from checkpoint - make sure your path / file name / saved epoch are correct and consistent!\n",
        "saved_state = None\n",
        "saved_epoch = 0\n",
        "if LOAD_SAVED_CHECKPOINT:\n",
        "  print(\"Using saved checkpoint from\", LOG_PATH)\n",
        "  saved_state = torch.load(LOG_PATH + 'checkpoint-10.pkl')\n",
        "  saved_epoch = 10\n",
        "  print(\"Starting on epoch\", saved_epoch)\n",
        "else:\n",
        "  print(\"Training new model...\")\n",
        "\n",
        "losses = train(model_ft, duo_loader, epochs=EPOCHS, lr=LEARNING_RATE, momentum=MOMENTUM, \n",
        "               decay=WEIGHT_DECAY, print_every=PRINT_INTERVAL, \n",
        "               schedule={0:LEARNING_RATE, 10:LEARNING_RATE / 10, 20:LEARNING_RATE / 20}, checkpoint_path=LOG_PATH, \n",
        "               start_epoch=saved_epoch, state=saved_state)\n",
        "plt.plot(smooth(losses,50))\n",
        "\n",
        "train_acc, train_fn = accuracy(model_ft, duo_loader)\n",
        "print(\"Training accuracy:\", train_acc)\n",
        "print(\"Training false negatives:\", train_fn)\n",
        "print()\n",
        "\n",
        "val_acc, val_fn = accuracy(model_ft, data['validation'])\n",
        "print(\"Validation  accuracy:\", val_acc)\n",
        "print(\"Validation false negatives:\", val_fn)"
      ],
      "execution_count": 19,
      "outputs": [
        {
          "output_type": "stream",
          "text": [
            "Downloading: \"https://download.pytorch.org/models/resnet18-5c106cde.pth\" to /root/.cache/torch/hub/checkpoints/resnet18-5c106cde.pth\n"
          ],
          "name": "stderr"
        },
        {
          "output_type": "display_data",
          "data": {
            "application/vnd.jupyter.widget-view+json": {
              "model_id": "70b53912e62944d89dd97d9fa60ae68c",
              "version_minor": 0,
              "version_major": 2
            },
            "text/plain": [
              "HBox(children=(FloatProgress(value=0.0, max=46827520.0), HTML(value='')))"
            ]
          },
          "metadata": {
            "tags": []
          }
        },
        {
          "output_type": "stream",
          "text": [
            "\n",
            "Training new model...\n",
            "Learning rate: 0.000500\n",
            "[0,    10] loss: 0.808\n",
            "[0,    20] loss: 0.710\n",
            "[0,    30] loss: 0.619\n",
            "[1,    10] loss: 0.560\n",
            "[1,    20] loss: 0.536\n",
            "[1,    30] loss: 0.513\n",
            "[2,    10] loss: 0.474\n",
            "[2,    20] loss: 0.467\n",
            "[2,    30] loss: 0.452\n",
            "[3,    10] loss: 0.458\n",
            "[3,    20] loss: 0.419\n",
            "[3,    30] loss: 0.419\n",
            "[4,    10] loss: 0.425\n",
            "[4,    20] loss: 0.413\n",
            "[4,    30] loss: 0.394\n",
            "[5,    10] loss: 0.404\n",
            "[5,    20] loss: 0.406\n",
            "[5,    30] loss: 0.379\n",
            "[6,    10] loss: 0.385\n",
            "[6,    20] loss: 0.370\n",
            "[6,    30] loss: 0.385\n",
            "[7,    10] loss: 0.395\n",
            "[7,    20] loss: 0.357\n",
            "[7,    30] loss: 0.357\n",
            "[8,    10] loss: 0.367\n",
            "[8,    20] loss: 0.362\n",
            "[8,    30] loss: 0.371\n",
            "[9,    10] loss: 0.370\n",
            "[9,    20] loss: 0.364\n",
            "[9,    30] loss: 0.323\n",
            "Number of waldos guessed wrong: 332\n",
            "Total number of waldos: 2191\n",
            "Number of notwaldos guessed wrong: 310\n",
            "Total correct: 3739\n",
            "Total images: 4381\n",
            "Training accuracy: 0.853458114585711\n",
            "Training false negatives: 0.1515289821999087\n",
            "\n",
            "Number of waldos guessed wrong: 186\n",
            "Total number of waldos: 248\n",
            "Number of notwaldos guessed wrong: 197\n",
            "Total correct: 624\n",
            "Total images: 1007\n",
            "Validation  accuracy: 0.6196623634558094\n",
            "Validation false negatives: 0.75\n"
          ],
          "name": "stdout"
        },
        {
          "output_type": "display_data",
          "data": {
            "image/png": "[encoded data removed]",
            "text/plain": [
              "<Figure size 432x288 with 1 Axes>"
            ]
          },
          "metadata": {
            "tags": [],
            "needs_background": "light"
          }
        }
      ]
    },
    {
      "cell_type": "markdown",
      "metadata": {
        "id": "SxIfyCzArf13"
      },
      "source": [
        "# Testing\n",
        "\n",
        "In this section we run the trained model on our test set to gauge accuracy and generalizability to unseen data"
      ]
    },
    {
      "cell_type": "code",
      "metadata": {
        "colab": {
          "base_uri": "https://localhost:8080/"
        },
        "id": "o0_kCcWbROXh",
        "outputId": "1dba69ca-e689-404e-d235-1d515da30b06"
      },
      "source": [
        "# Running trained model on test set\n",
        "test_acc, test_fn = accuracy(model_ft, data['test'])\n",
        "print(\"Test accuracy:\", test_acc)\n",
        "print(\"Test false negatives:\", test_fn)"
      ],
      "execution_count": 20,
      "outputs": [
        {
          "output_type": "stream",
          "text": [
            "Number of waldos guessed wrong: 188\n",
            "Total number of waldos: 258\n",
            "Number of notwaldos guessed wrong: 284\n",
            "Total correct: 806\n",
            "Total images: 1278\n",
            "Test accuracy: 0.6306729264475743\n",
            "Test false negatives: 0.7286821705426356\n"
          ],
          "name": "stdout"
        }
      ]
    },
    {
      "cell_type": "markdown",
      "metadata": {
        "id": "HOLJI6-Oqz0Z"
      },
      "source": [
        "# Run model on an unseen image\n",
        "\n",
        "Now that the model has been trained, we can use it on our own images! This section will take in a given image, tile it into 64x64 images, feed it into the model, and re-stitch the tiles together to highlight where Waldo was found in the image."
      ]
    },
    {
      "cell_type": "code",
      "metadata": {
        "colab": {
          "base_uri": "https://localhost:8080/"
        },
        "id": "9HMU3WDu0kcp",
        "outputId": "125f8dc1-aee3-4ec2-a62b-740bb90f5b04"
      },
      "source": [
        "os.chdir(BASE_PATH)\n",
        "import crop_utils"
      ],
      "execution_count": 23,
      "outputs": [
        {
          "output_type": "stream",
          "text": [
            "Requirement already satisfied: image_slicer in /usr/local/lib/python3.7/dist-packages (2.1.1)\n",
            "Requirement already satisfied: Pillow==7.2.0 in /usr/local/lib/python3.7/dist-packages (from image_slicer) (7.2.0)\n",
            "Requirement already satisfied: imgaug in /usr/local/lib/python3.7/dist-packages (0.2.9)\n",
            "Requirement already satisfied: scipy in /usr/local/lib/python3.7/dist-packages (from imgaug) (1.4.1)\n",
            "Requirement already satisfied: opencv-python in /usr/local/lib/python3.7/dist-packages (from imgaug) (4.1.2.30)\n",
            "Requirement already satisfied: scikit-image>=0.11.0 in /usr/local/lib/python3.7/dist-packages (from imgaug) (0.16.2)\n",
            "Requirement already satisfied: Shapely in /usr/local/lib/python3.7/dist-packages (from imgaug) (1.7.1)\n",
            "Requirement already satisfied: six in /usr/local/lib/python3.7/dist-packages (from imgaug) (1.15.0)\n",
            "Requirement already satisfied: numpy>=1.15.0 in /usr/local/lib/python3.7/dist-packages (from imgaug) (1.19.5)\n",
            "Requirement already satisfied: matplotlib in /usr/local/lib/python3.7/dist-packages (from imgaug) (3.2.2)\n",
            "Requirement already satisfied: imageio in /usr/local/lib/python3.7/dist-packages (from imgaug) (2.4.1)\n",
            "Requirement already satisfied: Pillow in /usr/local/lib/python3.7/dist-packages (from imgaug) (7.2.0)\n",
            "Requirement already satisfied: networkx>=2.0 in /usr/local/lib/python3.7/dist-packages (from scikit-image>=0.11.0->imgaug) (2.5.1)\n",
            "Requirement already satisfied: PyWavelets>=0.4.0 in /usr/local/lib/python3.7/dist-packages (from scikit-image>=0.11.0->imgaug) (1.1.1)\n",
            "Requirement already satisfied: cycler>=0.10 in /usr/local/lib/python3.7/dist-packages (from matplotlib->imgaug) (0.10.0)\n",
            "Requirement already satisfied: pyparsing!=2.0.4,!=2.1.2,!=2.1.6,>=2.0.1 in /usr/local/lib/python3.7/dist-packages (from matplotlib->imgaug) (2.4.7)\n",
            "Requirement already satisfied: kiwisolver>=1.0.1 in /usr/local/lib/python3.7/dist-packages (from matplotlib->imgaug) (1.3.1)\n",
            "Requirement already satisfied: python-dateutil>=2.1 in /usr/local/lib/python3.7/dist-packages (from matplotlib->imgaug) (2.8.1)\n",
            "Requirement already satisfied: decorator<5,>=4.3 in /usr/local/lib/python3.7/dist-packages (from networkx>=2.0->scikit-image>=0.11.0->imgaug) (4.4.2)\n"
          ],
          "name": "stdout"
        }
      ]
    },
    {
      "cell_type": "code",
      "metadata": {
        "colab": {
          "base_uri": "https://localhost:8080/"
        },
        "id": "7BvIR2Ohojre",
        "outputId": "3c091aa2-00be-4e72-ace0-ca4d7ac31d9c"
      },
      "source": [
        "# Tile demo image\n",
        "rows, columns = crop_utils.cropTiles(os.path.join(BASE_PATH, \"demo_pictures\", \"waldo_snow.jpg\"))\n",
        "print(\"Rows:\", rows)\n",
        "print(\"Columns:\", columns)"
      ],
      "execution_count": 25,
      "outputs": [
        {
          "output_type": "stream",
          "text": [
            "Cropping input image: /gdrive/MyDrive/CSE455 Final Project/demo_pictures/waldo_snow.jpg\n",
            "Generating 64x64 tiles from original image...\n",
            "Rows: 29\n",
            "Columns: 46\n"
          ],
          "name": "stdout"
        }
      ]
    },
    {
      "cell_type": "code",
      "metadata": {
        "colab": {
          "base_uri": "https://localhost:8080/",
          "height": 323
        },
        "id": "YM0ZpKYvqfQ4",
        "outputId": "33ef03a7-c89e-4316-f94e-8878cc9a9e77"
      },
      "source": [
        "class DemoDataset(torch.utils.data.Dataset):\n",
        "    def __init__(self, root, transform=None, target_transform=None,\n",
        "                 loader=datasets.folder.default_loader):\n",
        "        self.root_dir = root\n",
        "        self.image_names = os.listdir(root)\n",
        "        self.transform = transform\n",
        "        self.target_transform = target_transform\n",
        "    \n",
        "    def __len__(self):\n",
        "      return len(self.image_names)\n",
        "\n",
        "    def __getitem__(self, index):\n",
        "        # label key: {'notwaldo': 0, 'waldo': 1}\n",
        "        image = read_image(os.path.join(self.root_dir, self.image_names[index]))\n",
        "        label = -1\n",
        "        if self.transform:\n",
        "            image = self.transform(image)\n",
        "        if self.target_transform:\n",
        "            label = self.target_transform(label)\n",
        "        return torch.div(image, 255), label, self.image_names[index]\n",
        "\n",
        "demo_data = DemoDataset(root=os.path.join(BASE_PATH, 'temp'))\n",
        "demo_loader = torch.utils.data.DataLoader(demo_data, batch_size=TEST_BATCH_SIZE, shuffle=False, num_workers=2)\n",
        "\n",
        "# Show demo data with non-filename dataset\n",
        "peek_data_with_path(demo_loader)"
      ],
      "execution_count": 38,
      "outputs": [
        {
          "output_type": "stream",
          "text": [
            "images torch.Size([1, 3, 64, 64])\n",
            "labels torch.Size([1])\n"
          ],
          "name": "stdout"
        },
        {
          "output_type": "display_data",
          "data": {
            "image/png": "[encoded data removed]",
            "text/plain": [
              "<Figure size 432x288 with 1 Axes>"
            ]
          },
          "metadata": {
            "tags": [],
            "needs_background": "light"
          }
        },
        {
          "output_type": "stream",
          "text": [
            "Path: ('temp_01_01.png',)\n"
          ],
          "name": "stdout"
        }
      ]
    },
    {
      "cell_type": "code",
      "metadata": {
        "colab": {
          "base_uri": "https://localhost:8080/"
        },
        "id": "4k32EoL3ftUh",
        "outputId": "07176d2b-79b8-4ef1-d910-bba52c2cc9fa"
      },
      "source": [
        "waldo_images = []\n",
        "with torch.no_grad():\n",
        "    for i, batch in enumerate(demo_data, 0):\n",
        "        input, label, path = batch[0], batch[1], batch[2]\n",
        "        input = torch.zeros([1, 3, 64, 64], dtype=torch.float)\n",
        "        input[0] = batch[0]\n",
        "        input = input.to(device)\n",
        "        if i % 100 == 0:\n",
        "            print(\"Processing image\", i)\n",
        "        outputs = model_ft(input)\n",
        "        _, predicted = torch.max(outputs.data, 1)\n",
        "\n",
        "        for idx, prediction in enumerate(predicted):\n",
        "          if prediction == 1:\n",
        "            waldo_images.append(path)\n",
        "\n",
        "print(\"\\nFound\", len(waldo_images), \"waldos!\")\n",
        "crop_utils.stitchTiles(rows, columns, waldo_images)"
      ],
      "execution_count": 39,
      "outputs": [
        {
          "output_type": "stream",
          "text": [
            "Processing image 0\n",
            "Processing image 100\n",
            "Processing image 200\n",
            "Processing image 300\n",
            "Processing image 400\n",
            "Processing image 500\n",
            "Processing image 600\n",
            "Processing image 700\n",
            "Processing image 800\n",
            "Processing image 900\n",
            "Processing image 1000\n",
            "Processing image 1100\n",
            "Processing image 1200\n",
            "Processing image 1300\n",
            "\n",
            "Found 397 waldos!\n",
            "STITCHING TILES...\n",
            "Deleting tiles...\n",
            "Done\n"
          ],
          "name": "stdout"
        }
      ]
    }
  ]
}